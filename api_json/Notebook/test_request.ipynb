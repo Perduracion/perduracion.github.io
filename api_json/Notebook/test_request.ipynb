{
 "cells": [
  {
   "cell_type": "markdown",
   "metadata": {},
   "source": [
    "* Si nunca usaron notebooks en vscode, necesitan instalar ipykernel en el venv, conda o en el entorno global. Despues elijen el kernel arriba a la derecha, y luego pueden ejecutarla por bloque"
   ]
  },
  {
   "cell_type": "markdown",
   "metadata": {},
   "source": [
    "requirements para ejectuar"
   ]
  },
  {
   "cell_type": "code",
   "execution_count": 1,
   "metadata": {},
   "outputs": [
    {
     "name": "stdout",
     "output_type": "stream",
     "text": [
      "\u001b[1;31merror\u001b[0m: \u001b[1mexternally-managed-environment\u001b[0m\n",
      "\n",
      "\u001b[31m×\u001b[0m This environment is externally managed\n",
      "\u001b[31m╰─>\u001b[0m To install Python packages system-wide, try 'pacman -S\n",
      "\u001b[31m   \u001b[0m python-xyz', where xyz is the package you are trying to\n",
      "\u001b[31m   \u001b[0m install.\n",
      "\u001b[31m   \u001b[0m \n",
      "\u001b[31m   \u001b[0m If you wish to install a non-Arch-packaged Python package,\n",
      "\u001b[31m   \u001b[0m create a virtual environment using 'python -m venv path/to/venv'.\n",
      "\u001b[31m   \u001b[0m Then use path/to/venv/bin/python and path/to/venv/bin/pip.\n",
      "\u001b[31m   \u001b[0m \n",
      "\u001b[31m   \u001b[0m If you wish to install a non-Arch packaged Python application,\n",
      "\u001b[31m   \u001b[0m it may be easiest to use 'pipx install xyz', which will manage a\n",
      "\u001b[31m   \u001b[0m virtual environment for you. Make sure you have python-pipx\n",
      "\u001b[31m   \u001b[0m installed via pacman.\n",
      "\n",
      "\u001b[1;35mnote\u001b[0m: If you believe this is a mistake, please contact your Python installation or OS distribution provider. You can override this, at the risk of breaking your Python installation or OS, by passing --break-system-packages.\n",
      "\u001b[1;36mhint\u001b[0m: See PEP 668 for the detailed specification.\n"
     ]
    }
   ],
   "source": [
    "!pip install requests"
   ]
  },
  {
   "cell_type": "markdown",
   "metadata": {},
   "source": [
    "imports"
   ]
  },
  {
   "cell_type": "code",
   "execution_count": 1,
   "metadata": {},
   "outputs": [],
   "source": [
    "import requests"
   ]
  },
  {
   "cell_type": "markdown",
   "metadata": {},
   "source": [
    "post a product"
   ]
  },
  {
   "cell_type": "code",
   "execution_count": 7,
   "metadata": {},
   "outputs": [
    {
     "name": "stdout",
     "output_type": "stream",
     "text": [
      "Producto cargado correctamente.\n"
     ]
    }
   ],
   "source": [
    "product_data = {\n",
    "    \"product_name\": \"asd\",\n",
    "    \"product_desc\": \"Descripcion del nuevo producto\",\n",
    "    \"product_image_path\": r\"/imagen\",\n",
    "    \"product_price\": 1.99,\n",
    "    \"product_cat_id\": 1\n",
    "}\n",
    "api_url = \"http://127.0.0.1:5000/api/products\"\n",
    "response = requests.post(api_url, json=product_data)\n",
    "\n",
    "\n",
    "# Verificar el estado de la respuesta\n",
    "if response.status_code == 201:\n",
    "    print(\"Producto cargado correctamente.\")\n",
    "else:\n",
    "    print(\"Error al cargar el producto:\", \n",
    "          \"status code: \", response.status_code,\n",
    "           response.text)\n",
    "\n"
   ]
  },
  {
   "cell_type": "markdown",
   "metadata": {},
   "source": [
    "GET a product"
   ]
  },
  {
   "cell_type": "code",
   "execution_count": 8,
   "metadata": {},
   "outputs": [
    {
     "name": "stdout",
     "output_type": "stream",
     "text": [
      "Productos:  [\n",
      "  {\n",
      "    \"product_cat_id\": 1,\n",
      "    \"product_desc\": \"Refresco carbonatado\",\n",
      "    \"product_id\": 1,\n",
      "    \"product_image_path\": null,\n",
      "    \"product_name\": \"Coca-Cola\",\n",
      "    \"product_price\": \"2.50\"\n",
      "  },\n",
      "  {\n",
      "    \"product_cat_id\": 1,\n",
      "    \"product_desc\": \"Gaseosa de lim\\u00f3n y lima\",\n",
      "    \"product_id\": 2,\n",
      "    \"product_image_path\": null,\n",
      "    \"product_name\": \"Sprite\",\n",
      "    \"product_price\": \"2.50\"\n",
      "  },\n",
      "  {\n",
      "    \"product_cat_id\": 1,\n",
      "    \"product_desc\": \"Jugo de naranja 100% puro\",\n",
      "    \"product_id\": 3,\n",
      "    \"product_image_path\": null,\n",
      "    \"product_name\": \"Jugo de Naranja\",\n",
      "    \"product_price\": \"3.00\"\n",
      "  },\n",
      "  {\n",
      "    \"product_cat_id\": 1,\n",
      "    \"product_desc\": \"Caf\\u00e9 caliente reci\\u00e9n hecho\",\n",
      "    \"product_id\": 4,\n",
      "    \"product_image_path\": null,\n",
      "    \"product_name\": \"Caf\\u00e9\",\n",
      "    \"product_price\": \"2.00\"\n",
      "  },\n",
      "  {\n",
      "    \"product_cat_id\": 1,\n",
      "    \"product_desc\": \"T\\u00e9 caliente reci\\u00e9n hecho\",\n",
      "    \"product_id\": 5,\n",
      "    \"product_image_path\": null,\n",
      "    \"product_name\": \"T\\u00e9\",\n",
      "    \"product_price\": \"2.00\"\n",
      "  },\n",
      "  {\n",
      "    \"product_cat_id\": 2,\n",
      "    \"product_desc\": \"Hamburguesa de carne con lechuga, tomate y cebolla\",\n",
      "    \"product_id\": 6,\n",
      "    \"product_image_path\": null,\n",
      "    \"product_name\": \"Hamburguesa\",\n",
      "    \"product_price\": \"5.99\"\n",
      "  },\n",
      "  {\n",
      "    \"product_cat_id\": 2,\n",
      "    \"product_desc\": \"Salsa de tomate, queso y toppings sobre una base de masa\",\n",
      "    \"product_id\": 7,\n",
      "    \"product_image_path\": null,\n",
      "    \"product_name\": \"Pizza\",\n",
      "    \"product_price\": \"7.99\"\n",
      "  },\n",
      "  {\n",
      "    \"product_cat_id\": 2,\n",
      "    \"product_desc\": \"Mezcla de verduras, hortalizas y aderezo\",\n",
      "    \"product_id\": 8,\n",
      "    \"product_image_path\": null,\n",
      "    \"product_name\": \"Ensalada\",\n",
      "    \"product_price\": \"4.99\"\n",
      "  },\n",
      "  {\n",
      "    \"product_cat_id\": 2,\n",
      "    \"product_desc\": \"Pasta cocida con salsa y toppings\",\n",
      "    \"product_id\": 9,\n",
      "    \"product_image_path\": null,\n",
      "    \"product_name\": \"Pasta\",\n",
      "    \"product_price\": \"6.99\"\n",
      "  },\n",
      "  {\n",
      "    \"product_cat_id\": 2,\n",
      "    \"product_desc\": \"Surtido de frutas frescas\",\n",
      "    \"product_id\": 10,\n",
      "    \"product_image_path\": null,\n",
      "    \"product_name\": \"Frutas\",\n",
      "    \"product_price\": \"3.99\"\n",
      "  },\n",
      "  {\n",
      "    \"product_cat_id\": 1,\n",
      "    \"product_desc\": \"Descripcion del asdasdsasda\",\n",
      "    \"product_id\": 13,\n",
      "    \"product_image_path\": \"/imagen\",\n",
      "    \"product_name\": \"asdasdasdasdasdas\",\n",
      "    \"product_price\": \"1.99\"\n",
      "  },\n",
      "  {\n",
      "    \"product_cat_id\": 1,\n",
      "    \"product_desc\": \"Descripcion del nuevo producto\",\n",
      "    \"product_id\": 14,\n",
      "    \"product_image_path\": \"/imagen\",\n",
      "    \"product_name\": \"asd\",\n",
      "    \"product_price\": \"1.99\"\n",
      "  }\n",
      "]\n",
      "\n"
     ]
    }
   ],
   "source": [
    "api_url = \"http://127.0.0.1:5000/api/products\"\n",
    "response = requests.get(api_url)\n",
    "\n",
    "\n",
    "# Verificar el estado de la respuesta\n",
    "if response.status_code == 200:\n",
    "    print(\"Productos: \", response.text)\n",
    "\n",
    "else:\n",
    "    print(\"Error al cargar el producto:\", \n",
    "          \"status code: \", response.status_code,\n",
    "           response.text)"
   ]
  },
  {
   "cell_type": "markdown",
   "metadata": {},
   "source": [
    "GET ID"
   ]
  },
  {
   "cell_type": "code",
   "execution_count": 9,
   "metadata": {},
   "outputs": [
    {
     "name": "stdout",
     "output_type": "stream",
     "text": [
      "http://127.0.0.1:5000/api/products/3\n",
      "Producto:  {\n",
      "  \"product_cat_id\": 1,\n",
      "  \"product_desc\": \"Jugo de naranja 100% puro\",\n",
      "  \"product_id\": 3,\n",
      "  \"product_image_path\": null,\n",
      "  \"product_name\": \"Jugo de Naranja\",\n",
      "  \"product_price\": \"3.00\"\n",
      "}\n",
      "\n"
     ]
    }
   ],
   "source": [
    "id=\"3\"\n",
    "api_url = \"http://127.0.0.1:5000/api/products/\"+id\n",
    "print(api_url)\n",
    "response = requests.get(api_url)\n",
    "\n",
    "\n",
    "# Verificar el estado de la respuesta\n",
    "if response.status_code == 200:\n",
    "    print(\"Producto: \", response.text)\n",
    "\n",
    "else:\n",
    "    print(\"Error al cargar el producto:\", \n",
    "          \"status code: \", response.status_code,\n",
    "           response.text)"
   ]
  },
  {
   "cell_type": "markdown",
   "metadata": {},
   "source": [
    "DELETE"
   ]
  },
  {
   "cell_type": "code",
   "execution_count": 11,
   "metadata": {},
   "outputs": [
    {
     "name": "stdout",
     "output_type": "stream",
     "text": [
      "http://127.0.0.1:5000/api/products/13\n",
      "200\n",
      "Producto:  {\n",
      "  \"message\": \"Product deleted successfully\"\n",
      "}\n",
      "\n"
     ]
    }
   ],
   "source": [
    "id=\"13\"\n",
    "api_url = \"http://127.0.0.1:5000/api/products/\"+id\n",
    "print(api_url)\n",
    "response = requests.delete(api_url)\n",
    "print(response.status_code)\n",
    "\n",
    "# Verificar el estado de la respuesta\n",
    "if response.status_code == 200:\n",
    "    print(\"Producto: \", response.text)\n",
    "\n",
    "else:\n",
    "    print(\"Error al cargar el producto:\", \n",
    "          \"status code: \", response.status_code,\n",
    "           response.text)"
   ]
  },
  {
   "cell_type": "code",
   "execution_count": 13,
   "metadata": {},
   "outputs": [
    {
     "name": "stdout",
     "output_type": "stream",
     "text": [
      "Producto actualizado correctamente.\n"
     ]
    }
   ],
   "source": [
    "import requests\n",
    "\n",
    "product_id = 14  # Reemplaza con el ID real del producto que deseas actualizar\n",
    "\n",
    "\n",
    "# Datos del producto a actualizar\n",
    "product_data = {\n",
    "    'product_name': \"asdasdasdasdasdas\",\n",
    "    'product_desc': \"Descripcion del asdasdsasda\",\n",
    "    'product_image_path': r\"/imagen\",\n",
    "    'product_price': 1.99,\n",
    "    'product_cat_id': 1\n",
    "}\n",
    "\n",
    "\n",
    "api_url = f\"http://127.0.0.1:5000/api/products/{product_id}\"\n",
    "\n",
    "# Realizar la solicitud PUT\n",
    "response = requests.put(api_url, json=product_data)\n",
    "\n",
    "# Verificar el estado de la respuesta\n",
    "if response.status_code == 200:\n",
    "    print(\"Producto actualizado correctamente.\")\n",
    "else:\n",
    "    print(\"Error al actualizar el producto:\",\n",
    "          \"status code: \", response.status_code,\n",
    "          response.text)\n"
   ]
  }
 ],
 "metadata": {
  "kernelspec": {
   "display_name": ".venv",
   "language": "python",
   "name": "python3"
  },
  "language_info": {
   "codemirror_mode": {
    "name": "ipython",
    "version": 3
   },
   "file_extension": ".py",
   "mimetype": "text/x-python",
   "name": "python",
   "nbconvert_exporter": "python",
   "pygments_lexer": "ipython3",
   "version": "3.12.4"
  }
 },
 "nbformat": 4,
 "nbformat_minor": 2
}
